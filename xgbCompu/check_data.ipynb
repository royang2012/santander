{
 "cells": [
  {
   "cell_type": "markdown",
   "metadata": {
    "collapsed": true
   },
   "source": [
    "Check if user attibutes in train_fea_df argee with the original \n",
    "santader_train table:"
   ]
  },
  {
   "cell_type": "code",
   "execution_count": null,
   "metadata": {},
   "outputs": [],
   "source": [
    "a = train_fea_df.ix[1200000]\n",
    "b = pd.read_sql(\"select * from santander_train where ncodpers = 1251580 and fecha_dato = '2015-9-28'\", santanderCon)"
   ]
  },
  {
   "cell_type": "markdown",
   "metadata": {},
   "source": [
    "see if the output agree with each other(train_out_df, santander_train[i] - [i-1]"
   ]
  },
  {
   "cell_type": "code",
   "execution_count": null,
   "metadata": {},
   "outputs": [],
   "source": [
    "b = pd.read_sql(\"select * from santander_train where ncodpers = 1251580 and fecha_dato = '2015-10-28'\", santanderCon)\n",
    "diff = b.ix[0, 25] - c.ix[0, 25:]\n",
    "diff2 = train_out_df.ix[200000]"
   ]
  },
  {
   "cell_type": "heading",
   "metadata": {},
   "level": 1,
   "source": [
    "check if the prediction set agree with santander_train table"
   ]
  },
  {
   "cell_type": "code",
   "execution_count": null,
   "metadata": {},
   "outputs": [],
   "source": [
    "a = pred_fea_df.ix[1200000]\n",
    "b = pd.read_sql(\"select * from santander_test where \"\n",
    "                \"ncodpers = 422893 and \"\n",
    "                \"fecha_dato = '2016-06-28'\", santanderCon)"
   ]
  },
  {
   "cell_type": "markdown",
   "metadata": {},
   "source": [
    "see if prediction set agree with pred_ary"
   ]
  },
  {
   "cell_type": "code",
   "execution_count": null,
   "metadata": {},
   "outputs": [],
   "source": [
    "pred_ary[200000]"
   ]
  },
  {
   "cell_type": "markdown",
   "metadata": {},
   "source": [
    "check the csv file"
   ]
  },
  {
   "cell_type": "code",
   "execution_count": null,
   "metadata": {},
   "outputs": [],
   "source": [
    "import pandas as pd\n",
    "import sqlite3 as sql\n",
    "original_data = pd.read_csv('./input/train_ver2.csv')\n",
    "original_data.ix[600000]\n",
    "connectionPath = \"./santander_data.db\"\n",
    "santanderCon = sql.connect(connectionPath)\n",
    "train_data = pd.read_sql(\"select * from santander_train where \"\n",
    "                         \"ncodpers = 613908 and fecha_dato = \"\n",
    "                         \"'2015-01-28'\", santanderCon)"
   ]
  }
 ],
 "metadata": {
  "kernelspec": {
   "display_name": "Python 2",
   "language": "python",
   "name": "python2"
  },
  "language_info": {
   "codemirror_mode": {
    "name": "ipython",
    "version": 2.0
   },
   "file_extension": ".py",
   "mimetype": "text/x-python",
   "name": "python",
   "nbconvert_exporter": "python",
   "pygments_lexer": "ipython2",
   "version": "2.7.6"
  }
 },
 "nbformat": 4,
 "nbformat_minor": 0
}